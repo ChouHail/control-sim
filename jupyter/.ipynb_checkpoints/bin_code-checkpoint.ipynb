{
 "cells": [
  {
   "cell_type": "code",
   "execution_count": null,
   "metadata": {},
   "outputs": [],
   "source": [
    "    #     def __mul__(self, other):\n",
    "    #         _self_nom_order = len(self.nom)-1\n",
    "    #         _self_den_order = len(self.den)-1\n",
    "    #         _other_nom_order = len(other.nom)-1\n",
    "    #         _other_den_order = len(other.nom)-1\n",
    "    #         s = symbols('s')\n",
    "    #         _res_nom_coeffs = (np.mat(self.nom)*\\\n",
    "    #             np.mat(toeplitz(np.pad([other.nom[0]],(0,_self_nom_order)),np.pad(other.nom,(0,_self_nom_order))))).A1\n",
    "    #         _res_den_coeffs = (np.mat(self.den)*\\\n",
    "    #             np.mat(toeplitz(np.pad([other.den[0]],(0,_self_den_order)),np.pad(other.den,(0,_self_den_order))))).A1\n",
    "\n",
    "    #         _res_nom_s = _res_den_s = 0\n",
    "    #         for _i in range(len(_res_nom_coeffs)):\n",
    "    #             _res_nom_s += _res_nom_coeffs[-_i - 1] * s ** _i\n",
    "    #         for _i in range(len(_res_den_coeffs)):\n",
    "    #             _res_den_s += _res_den_coeffs[-_i - 1] * s ** _i\n",
    "\n",
    "    #         _res_sys_s = cancel(simplify(_res_nom_s / _res_den_s))\n",
    "\n",
    "    #         _res_nom = Poly(fraction(_res_sys_s)[0], s).all_coeffs()\n",
    "    #         _res_den = Poly(fraction(_res_sys_s)[1], s).all_coeffs()\n",
    "    #         _res_sys = TransferFunc(_res_nom, _res_den, self.dt)\n",
    "    #         return _res_sys"
   ]
  }
 ],
 "metadata": {
  "kernelspec": {
   "display_name": "Python 3",
   "language": "python",
   "name": "python3"
  },
  "language_info": {
   "codemirror_mode": {
    "name": "ipython",
    "version": 3
   },
   "file_extension": ".py",
   "mimetype": "text/x-python",
   "name": "python",
   "nbconvert_exporter": "python",
   "pygments_lexer": "ipython3",
   "version": "3.8.5"
  }
 },
 "nbformat": 4,
 "nbformat_minor": 4
}
